{
 "cells": [
  {
   "cell_type": "code",
   "execution_count": 70,
   "metadata": {},
   "outputs": [],
   "source": [
    "from selenium import webdriver\n",
    "from selenium.webdriver.common.keys import Keys\n",
    "from selenium.webdriver.common.by import By\n",
    "from selenium.webdriver.support.ui import WebDriverWait\n",
    "from selenium.webdriver.support import expected_conditions as EC\n",
    "from selenium.common.exceptions import TimeoutException\n",
    "from selenium.webdriver.chrome.options import Options\n",
    "from selenium.webdriver.common.proxy import Proxy, ProxyType\n",
    "import requests\n",
    "from dotenv import load_dotenv\n",
    "from os import environ\n",
    "import random\n",
    "import pandas as pd\n",
    "import time\n",
    "from fake_useragent import UserAgent"
   ]
  },
  {
   "cell_type": "code",
   "execution_count": 71,
   "metadata": {},
   "outputs": [],
   "source": [
    "load_dotenv()\n",
    "random.seed()"
   ]
  },
  {
   "cell_type": "code",
   "execution_count": 72,
   "metadata": {},
   "outputs": [],
   "source": [
    "path = environ[\"WEBDRIVER_PATH\"]\n",
    "url = environ[\"BASE_URL\"]\n",
    "feed_endpoint = environ[\"FEED_ENDPOINT\"]\n",
    "login_uid_xpath = '//*[@id=\"session_key\"]' \n",
    "login_password_xpath = '//*[@id=\"session_password\"]'\n",
    "login_submit_xpath = '//*[@id=\"main-content\"]/section[1]/div/div/form/button'"
   ]
  },
  {
   "cell_type": "code",
   "execution_count": 73,
   "metadata": {},
   "outputs": [],
   "source": [
    "phone_skip_btn = \"/html/body/div/div[1]/section/div[2]/div/article/footer/div/div/button\""
   ]
  },
  {
   "cell_type": "code",
   "execution_count": 74,
   "metadata": {},
   "outputs": [
    {
     "name": "stderr",
     "output_type": "stream",
     "text": [
      "/tmp/ipykernel_14789/4189617847.py:6: DeprecationWarning: executable_path has been deprecated, please pass in a Service object\n",
      "  driver = webdriver.Chrome(\n"
     ]
    }
   ],
   "source": [
    "options = Options()\n",
    "ua = UserAgent()\n",
    "user_agent = ua.random\n",
    "\n",
    "options.add_argument(f'user-agent={user_agent}')\n",
    "driver = webdriver.Chrome(\n",
    "        # options=options, \n",
    "        executable_path=path\n",
    "    )\n",
    "driver.get(url)\n",
    "uid_field = driver.find_element(By.XPATH, login_uid_xpath)\n",
    "uid_field.send_keys(environ[\"LINKEDIN_USERNAME\"])\n",
    "password_field = driver.find_element(By.XPATH, login_password_xpath)\n",
    "password_field.send_keys(environ[\"LINKEDIN_PASSWORD\"])\n",
    "okay_btn = driver.find_element(By.XPATH, login_submit_xpath).click()\n",
    "if environ[\"ADD_PHONE_ENDPOINT\"] in driver.current_url:\n",
    "    btn = driver.find_element(By.XPATH, phone_skip_btn)\n",
    "    btn.click()\n",
    "    btn = None\n",
    "time.sleep(5)\n",
    "driver.quit()"
   ]
  },
  {
   "cell_type": "code",
   "execution_count": 10,
   "metadata": {},
   "outputs": [
    {
     "name": "stdout",
     "output_type": "stream",
     "text": [
      "['antarasaikia', 'nabajyoti-borah-944000160', 'parthava-borah-98253713a', 'prithoo11335', 'shikha-sharma-b9362b169', 'tridip-das-b5837911b']\n"
     ]
    }
   ],
   "source": [
    "with open(\"../data_store/uids.csv\", \"rt\", encoding=\"utf-8\") as data:\n",
    "    uid_list = data.read().split(\"\\n\")\n",
    "uid_list.sort()\n",
    "print(uid_list)"
   ]
  }
 ],
 "metadata": {
  "interpreter": {
   "hash": "5a103bba400fec2838f8f86e42e3873646a1b87f3e751fd45943d1051da79e90"
  },
  "kernelspec": {
   "display_name": "Python 3.8.10 ('env': venv)",
   "language": "python",
   "name": "python3"
  },
  "language_info": {
   "codemirror_mode": {
    "name": "ipython",
    "version": 3
   },
   "file_extension": ".py",
   "mimetype": "text/x-python",
   "name": "python",
   "nbconvert_exporter": "python",
   "pygments_lexer": "ipython3",
   "version": "3.8.10"
  },
  "orig_nbformat": 4
 },
 "nbformat": 4,
 "nbformat_minor": 2
}
