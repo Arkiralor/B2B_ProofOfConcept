{
 "cells": [
  {
   "cell_type": "code",
   "execution_count": null,
   "metadata": {},
   "outputs": [],
   "source": [
    "from selenium import webdriver\n",
    "from selenium.webdriver.common.keys import Keys\n",
    "from selenium.webdriver.common.by import By\n",
    "from selenium.webdriver.support.ui import WebDriverWait\n",
    "from selenium.webdriver.support import expected_conditions as EC\n",
    "from selenium.common.exceptions import TimeoutException\n",
    "from selenium.webdriver.chrome.options import Options\n",
    "from selenium.webdriver.common.proxy import Proxy, ProxyType\n",
    "import requests\n",
    "from dotenv import load_dotenv\n",
    "from os import environ\n",
    "import random\n",
    "import pandas as pd\n",
    "import time\n",
    "from fake_useragent import UserAgent"
   ]
  },
  {
   "cell_type": "code",
   "execution_count": null,
   "metadata": {},
   "outputs": [],
   "source": [
    "load_dotenv()\n",
    "random.seed()"
   ]
  },
  {
   "cell_type": "code",
   "execution_count": null,
   "metadata": {},
   "outputs": [],
   "source": [
    "path = environ[\"WEBDRIVER_PATH\"]\n",
    "url = environ[\"BASE_URL\"]\n",
    "feed_endpoint = environ[\"FEED_ENDPOINT\"]\n",
    "login_uid_xpath = '//*[@id=\"session_key\"]' \n",
    "login_password_xpath = '//*[@id=\"session_password\"]'\n",
    "login_submit_xpath = '//*[@id=\"main-content\"]/section[1]/div/div/form/button'"
   ]
  },
  {
   "cell_type": "code",
   "execution_count": null,
   "metadata": {},
   "outputs": [],
   "source": [
    "phone_skip_btn = \"/html/body/div/div[1]/section/div[2]/div/article/footer/div/div/button\""
   ]
  },
  {
   "cell_type": "code",
   "execution_count": null,
   "metadata": {},
   "outputs": [],
   "source": [
    "# options = Options()\n",
    "# ua = UserAgent()\n",
    "# user_agent = ua.random\n",
    "\n",
    "# options.add_argument(f'user-agent={user_agent}')\n",
    "driver = webdriver.Chrome(\n",
    "        # options=options, \n",
    "        executable_path=path\n",
    "    )\n",
    "driver.get(url)\n",
    "uid_field = driver.find_element(By.XPATH, login_uid_xpath)\n",
    "uid_field.send_keys(environ[\"LINKEDIN_USERNAME\"])\n",
    "password_field = driver.find_element(By.XPATH, login_password_xpath)\n",
    "password_field.send_keys(environ[\"LINKEDIN_PASSWORD\"])\n",
    "okay_btn = driver.find_element(By.XPATH, login_submit_xpath).click()\n",
    "if environ[\"ADD_PHONE_ENDPOINT\"] in driver.current_url:\n",
    "    btn = driver.find_element(By.XPATH, phone_skip_btn)\n",
    "    btn.click()\n",
    "    btn = None\n",
    "time.sleep(5)\n",
    "driver.quit()"
   ]
  },
  {
   "cell_type": "code",
   "execution_count": null,
   "metadata": {},
   "outputs": [],
   "source": [
    "with open(\"../data_store/uids.csv\", \"rt\", encoding=\"utf-8\") as data:\n",
    "    uid_list = data.read().split(\"\\n\")\n",
    "uid_list.sort()\n",
    "print(uid_list)"
   ]
  },
  {
   "cell_type": "markdown",
   "metadata": {},
   "source": [
    "## Traversing JSON feed data for own profile\n",
    "\n",
    "We will now, parse the json file and take only the necessary details."
   ]
  },
  {
   "cell_type": "code",
   "execution_count": null,
   "metadata": {},
   "outputs": [],
   "source": [
    "import json\n",
    "\n",
    "file_path = \"/home/prithoo/Coding/B2B_ProofOfConcept/output_data/search_results/prithoo11335@gmail.com_feed.json\"\n",
    "\n",
    "with open(file_path)as json_file:\n",
    "    feed = json.load(json_file)\n",
    "\n",
    "feed = feed[\"feed\"]\n",
    "\n",
    "feed_list = []\n",
    "for post in feed:\n",
    "    if \"position\" in post.get(\"content\"):\n",
    "        data_dict = {}\n",
    "        data_dict[\"author\"] = post.get(\"author_profile\", \"\")\n",
    "        data_dict[\"post\"] = post.get(\"content\", \"\")\n",
    "        data_dict[\"urn\"] = post.get(\"url\", \"\").split(\"/\")[-1]\n",
    "        data_dict[\"link\"] = post.get(\"url\", \"\").lower()\n",
    "        feed_list.append(data_dict)\n",
    "\n",
    "# print(feed_list)"
   ]
  },
  {
   "cell_type": "code",
   "execution_count": null,
   "metadata": {},
   "outputs": [],
   "source": [
    "import pandas as pd\n",
    "\n",
    "df = pd.DataFrame.from_dict(feed_list)\n",
    "df.head()\n",
    "op_file_name = f\"/home/prithoo/Coding/B2B_ProofOfConcept/cleaned_data/{file_path.split('/')[-1]}.csv\"\n",
    "df.to_csv(op_file_name)"
   ]
  },
  {
   "cell_type": "code",
   "execution_count": null,
   "metadata": {},
   "outputs": [],
   "source": [
    "import json\n",
    "\n",
    "json_file_path = \"/home/prithoo/Coding/B2B_ProofOfConcept/output_data/profiles/prithoo11335.json\"\n",
    "\n",
    "with open(json_file_path)as json_file:\n",
    "    uids_dict_list = json.load(json_file).get(\"connections\", [])\n"
   ]
  },
  {
   "cell_type": "code",
   "execution_count": null,
   "metadata": {},
   "outputs": [],
   "source": [
    "main_list = []\n",
    "for item in uids_dict_list:\n",
    "    main_list.append(item.get(\"public_id\", \"\"))\n",
    "\n",
    "main_list = list(set(main_list))\n",
    "main_list.sort()"
   ]
  },
  {
   "cell_type": "code",
   "execution_count": null,
   "metadata": {},
   "outputs": [],
   "source": [
    "for item in main_list:\n",
    "    with open(\"/home/prithoo/Coding/B2B_ProofOfConcept/data_store/universal_identifiers.csv\", \"a+t\", encoding=\"utf-8\")as list_file:\n",
    "        list_file.write(f\"{item}\\n\")\n"
   ]
  },
  {
   "cell_type": "code",
   "execution_count": null,
   "metadata": {},
   "outputs": [],
   "source": [
    "from apis.api import LinkedInAPI\n",
    "\n",
    "main_api = LinkedInAPI()\n",
    "\n",
    "main_api.get_jobs(\"python\")"
   ]
  },
  {
   "cell_type": "code",
   "execution_count": 11,
   "metadata": {},
   "outputs": [],
   "source": [
    "import json \n",
    "\n",
    "file_path = \"/home/prithoo/Coding/B2B_ProofOfConcept/raw_data/search_results/posts/python_content.json\"\n",
    "# file_path = \"/home/prithoo/Coding/B2B_ProofOfConcept/raw_data/search_results/posts/python_all.json\"\n",
    "with open(file_path, \"r+t\", encoding=\"utf-8\")as json_file:\n",
    "    data = json.load(json_file)\n"
   ]
  },
  {
   "cell_type": "code",
   "execution_count": 12,
   "metadata": {},
   "outputs": [
    {
     "data": {
      "text/plain": [
       "['PROFILE', 'COMPANY', 'GROUP']"
      ]
     },
     "execution_count": 12,
     "metadata": {},
     "output_type": "execute_result"
    }
   ],
   "source": [
    "type_list = []\n",
    "for item in data:\n",
    "    type_list.append(item.get(\"type\", \"\"))\n",
    "\n",
    "type_list = list(set(type_list))\n",
    "type_list"
   ]
  },
  {
   "cell_type": "code",
   "execution_count": null,
   "metadata": {},
   "outputs": [],
   "source": [
    "import pandas as pd\n",
    "\n",
    "word_list_file = \"/home/prithoo/Documents/datasets/english/words.csv\"\n",
    "\n",
    "df = pd.read_csv(word_list_file, encoding=\"utf-8\", header=1, names=[\"word\"])"
   ]
  },
  {
   "cell_type": "code",
   "execution_count": null,
   "metadata": {},
   "outputs": [],
   "source": [
    "df = df.filter([\"word\"], axis=1)\n",
    "w_list = df[\"word\"].tolist()\n",
    "w_list"
   ]
  },
  {
   "cell_type": "code",
   "execution_count": null,
   "metadata": {},
   "outputs": [],
   "source": [
    "w_list = [str(w) for w in w_list]\n",
    "cleaned_list = [w.lower() for w in w_list if w.isalpha()]\n"
   ]
  },
  {
   "cell_type": "code",
   "execution_count": null,
   "metadata": {},
   "outputs": [],
   "source": [
    "for item in cleaned_list:\n",
    "    with open(\"/home/prithoo/Documents/datasets/english/cleaned_word_list.csv\", \"a+t\", encoding=\"utf-8\")as list_file:\n",
    "        list_file.write(f\"{item}\\n\")"
   ]
  },
  {
   "cell_type": "code",
   "execution_count": null,
   "metadata": {},
   "outputs": [],
   "source": [
    "import requests\n",
    "\n",
    "black_list = [\"light\", \"hammer\", \"novice\", \"quintessential\", \"huerhvo\", \"cuwchwvuv\", \"chbvervkrbv\"]\n",
    "clean_words = []\n",
    "\n",
    "cont = []\n",
    "for item in black_list:\n",
    "    print(f\"Testing {item}\")\n",
    "    url = f\"https://api.datamuse.com/words?ml={item}\"\n",
    "    r = requests.get(url)\n",
    "    print(r.json())\n",
    "    if r.json().get() > 95_000:\n",
    "        clean_words.append(item)\n",
    "\n"
   ]
  },
  {
   "cell_type": "code",
   "execution_count": null,
   "metadata": {},
   "outputs": [],
   "source": [
    "cont"
   ]
  }
 ],
 "metadata": {
  "interpreter": {
   "hash": "5a103bba400fec2838f8f86e42e3873646a1b87f3e751fd45943d1051da79e90"
  },
  "kernelspec": {
   "display_name": "Python 3.8.10 ('env': venv)",
   "language": "python",
   "name": "python3"
  },
  "language_info": {
   "codemirror_mode": {
    "name": "ipython",
    "version": 3
   },
   "file_extension": ".py",
   "mimetype": "text/x-python",
   "name": "python",
   "nbconvert_exporter": "python",
   "pygments_lexer": "ipython3",
   "version": "3.8.10"
  },
  "orig_nbformat": 4
 },
 "nbformat": 4,
 "nbformat_minor": 2
}
